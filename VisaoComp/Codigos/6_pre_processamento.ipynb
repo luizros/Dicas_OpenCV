{
 "cells": [
  {
   "cell_type": "markdown",
   "metadata": {},
   "source": [
    "# Pré-processamento\n",
    "\n",
    "Em um sistema baseado em Visão Computacional, a etapa de\n",
    "pré-processamento consiste em realçar objetos de interesse em imagens, facilitando segmentá-los posteriormente. Para realçar esses objetos, existem inúmeros procedimentos que podem ser realizados, como operações aritméticas, operações geométricas, métodos para ajuste de contraste e tratamento de ruído. Vamos conhecer agora algum desses procedimentos.\n"
   ]
  },
  {
   "cell_type": "markdown",
   "metadata": {},
   "source": [
    "#### Como você ja deve saber, uma imagem é uma matriz de pixels, em python conseguimos acessa-los com facilmente, veja:"
   ]
  },
  {
   "cell_type": "code",
   "execution_count": 1,
   "metadata": {},
   "outputs": [
    {
     "name": "stdout",
     "output_type": "stream",
     "text": [
      "(432, 640, 3)\n"
     ]
    }
   ],
   "source": [
    "# -*- coding: utf-8 -*-\n",
    "# Primeito irei importar a biblioteca do OpenCV e tentarei ver as dimensões da matriz\n",
    "import\tcv2\n",
    "import numpy as numpy\n",
    "imagem = cv2.imread(\"../Imagens/frutas3.jpg\") # Lendo nossa imagem, lembre de usar esse formato de path se estiver usando o jupyter notebook\n",
    "print(imagem.shape) # Imprime as dimensões"
   ]
  },
  {
   "cell_type": "markdown",
   "metadata": {},
   "source": [
    "Temos uma imagem de 3456x518 pixels, podemos imprimi-la com os métodos que ja estudamos antes, vamos lá"
   ]
  },
  {
   "cell_type": "code",
   "execution_count": 2,
   "metadata": {},
   "outputs": [],
   "source": [
    "cv2.imshow(\"Frutas\", imagem)\n",
    "cv2.waitKey(0)\n",
    "cv2.destroyAllWindows() "
   ]
  },
  {
   "cell_type": "markdown",
   "metadata": {},
   "source": [
    "Vamos acessar os pixels dessa imagem"
   ]
  },
  {
   "cell_type": "code",
   "execution_count": 3,
   "metadata": {},
   "outputs": [
    {
     "name": "stdout",
     "output_type": "stream",
     "text": [
      "[  0  71 141]\n"
     ]
    }
   ],
   "source": [
    "valorPixel\t= imagem[150,150]\n",
    "print(valorPixel)"
   ]
  },
  {
   "cell_type": "markdown",
   "metadata": {},
   "source": [
    "Observe\tque foi\t retornado um vetor contendo três valores inteiros. Isso ocorre pois estamos trabalhando com uma imagem colorida, representada em RGB. Sendo assim, cada pixel possui três valores, referentes respectivamente à intensidade\tde\tvermelho verde e azul.\n",
    "\n",
    "Mas agora, vamos converter nossa imagem para cinza e ver o que será retornado como valor, veja\n"
   ]
  },
  {
   "cell_type": "code",
   "execution_count": 4,
   "metadata": {},
   "outputs": [
    {
     "name": "stdout",
     "output_type": "stream",
     "text": [
      "58\n"
     ]
    }
   ],
   "source": [
    "imagem = cv2.cvtColor(imagem,cv2.COLOR_RGB2GRAY)\n",
    "valorPixel = imagem[150,150]\n",
    "print(valorPixel)"
   ]
  },
  {
   "cell_type": "markdown",
   "metadata": {},
   "source": [
    "Obtemos uma valor único, observe que nesse caso, a imagem representada\tem tons de cinza será um único valor inteiro, referente à intensidade de luz representada pelo pixel."
   ]
  },
  {
   "cell_type": "markdown",
   "metadata": {},
   "source": [
    "#### Alterando pixels\n",
    "Para alterar o valor de um determinado pixel da imagem, basta realizar a operação inversa: atribuir novos valores a um determinado elemento da matriz. Veja o exemplo:"
   ]
  },
  {
   "cell_type": "code",
   "execution_count": 5,
   "metadata": {},
   "outputs": [
    {
     "name": "stdout",
     "output_type": "stream",
     "text": [
      "[  0  71 141]\n",
      "[255 255 255]\n"
     ]
    }
   ],
   "source": [
    "imagem = cv2.imread(\"../Imagens/frutas3.jpg\")\n",
    "print(imagem[150,150]) \n",
    "imagem[150,150]\t= [255,255,255]\t\n",
    "print(imagem[150,150])\n",
    "cv2.imshow(\"Frutas\", imagem)\n",
    "cv2.waitKey(0)\n",
    "cv2.destroyAllWindows() \n",
    "\n",
    "# Perceba que iremos colocar um ponto branco, que representa o vetor rgb de maior intensidade r: 255, g: 255, b: 255"
   ]
  },
  {
   "cell_type": "markdown",
   "metadata": {},
   "source": [
    "### Quantos pixels tem numa imagem digital?\n",
    "\n",
    "Para saber isso, podemos utilizador o métodO size no objeto do tipo numpy.ndarray, veja"
   ]
  },
  {
   "cell_type": "code",
   "execution_count": 6,
   "metadata": {},
   "outputs": [
    {
     "data": {
      "text/plain": [
       "829440"
      ]
     },
     "execution_count": 6,
     "metadata": {},
     "output_type": "execute_result"
    }
   ],
   "source": [
    "imagem.size"
   ]
  },
  {
   "cell_type": "markdown",
   "metadata": {},
   "source": [
    "Mas atenção, como nossa imagem está no formato RGB, temos três canais de cores, portando, precisamos dividir para encontrar o total de pixels dela.\n",
    "\n",
    "\n",
    "2916000/3 = 972000.0 pixels\n",
    "\n",
    "Agora você deve estar imaginando como deve ser o resultado de pixel para uma imagem em tons de cinza, correto, vamos ver na prática.\n"
   ]
  },
  {
   "cell_type": "code",
   "execution_count": 7,
   "metadata": {},
   "outputs": [
    {
     "data": {
      "text/plain": [
       "276480"
      ]
     },
     "execution_count": 7,
     "metadata": {},
     "output_type": "execute_result"
    }
   ],
   "source": [
    "imagem = cv2.cvtColor(imagem, cv2.COLOR_RGB2GRAY)\n",
    "imagem.size"
   ]
  },
  {
   "cell_type": "markdown",
   "metadata": {},
   "source": [
    "A imagem em tons de cinza tem apenas um canal que representanta cada pixel com uma intensidade, consequentemente, teremos sempre o valor real dos pixels quando utilizarmos a função size ."
   ]
  }
 ],
 "metadata": {
  "kernelspec": {
   "display_name": "dev",
   "language": "python",
   "name": "python3"
  },
  "language_info": {
   "codemirror_mode": {
    "name": "ipython",
    "version": 3
   },
   "file_extension": ".py",
   "mimetype": "text/x-python",
   "name": "python",
   "nbconvert_exporter": "python",
   "pygments_lexer": "ipython3",
   "version": "3.11.0"
  },
  "metadata": {
   "interpreter": {
    "hash": "15bc721e7aae3596ad6d750111ab1c821e65267fa9fc9679262757ae4e3b2345"
   }
  },
  "orig_nbformat": 2,
  "vscode": {
   "interpreter": {
    "hash": "e11d750307bad3129010e5628bc7a5d446e888ec635b47f79851fcb3d27de349"
   }
  }
 },
 "nbformat": 4,
 "nbformat_minor": 2
}
