{
 "metadata": {
  "language_info": {
   "codemirror_mode": {
    "name": "ipython",
    "version": 3
   },
   "file_extension": ".py",
   "mimetype": "text/x-python",
   "name": "python",
   "nbconvert_exporter": "python",
   "pygments_lexer": "ipython3",
   "version": "3.7.0"
  },
  "orig_nbformat": 2,
  "kernelspec": {
   "name": "python370jvsc74a57bd015bc721e7aae3596ad6d750111ab1c821e65267fa9fc9679262757ae4e3b2345",
   "display_name": "Python 3.7.0 64-bit ('VisaoComp': venv)"
  },
  "metadata": {
   "interpreter": {
    "hash": "15bc721e7aae3596ad6d750111ab1c821e65267fa9fc9679262757ae4e3b2345"
   }
  }
 },
 "nbformat": 4,
 "nbformat_minor": 2,
 "cells": [
  {
   "source": [
    "# Pré-processamento\n",
    "\n",
    "Em um sistema baseado em Visão Computacional, a etapa de\n",
    "pré-processamento consiste em realçar objetos de interesse em imagens, facilitando segmentá-los posteriormente. Para realçar esses objetos, existem inúmeros procedimentos que podem ser realizados, como operações aritméticas, operações geométricas, métodos para ajuste de contraste e tratamento de ruído. Vamos conhecer agora algum desses procedimentos.\n"
   ],
   "cell_type": "markdown",
   "metadata": {}
  },
  {
   "source": [
    "#### Como você ja deve saber, uma imagem é uma matriz de pixels, em python conseguimos acessa-los com facilmente, veja:"
   ],
   "cell_type": "markdown",
   "metadata": {}
  },
  {
   "cell_type": "code",
   "execution_count": 4,
   "metadata": {},
   "outputs": [
    {
     "output_type": "stream",
     "name": "stdout",
     "text": [
      "(810, 1200, 3)\n"
     ]
    }
   ],
   "source": [
    "# Primeito irei importar a biblioteca do OpenCV e tentarei ver as dimensões da matriz\n",
    "import\tcv2\n",
    "import numpy as numpy\n",
    "imagem = cv2.imread(\"/home/luiz/Documentos/MeusProjetos/Dicas_OpenCV/VisaoComp/Imagens/frutas3.jpg\") # Lendo nossa imagem, lembre de usar esse formato de path se estiver usando o jupyter notebook\n",
    "print(imagem.shape) # Imprime as dimensões"
   ]
  },
  {
   "source": [
    "Temos uma imagem de 3456x518 pixels, podemos imprimi-la com os métodos que ja estudamos antes, vamos lá"
   ],
   "cell_type": "markdown",
   "metadata": {}
  },
  {
   "cell_type": "code",
   "execution_count": 5,
   "metadata": {},
   "outputs": [],
   "source": [
    "cv2.imshow(\"Frutas\", imagem)\n",
    "cv2.waitKey(0)\n",
    "cv2.destroyAllWindows() "
   ]
  },
  {
   "source": [
    "Vamos acessar os pixels dessa imagem"
   ],
   "cell_type": "markdown",
   "metadata": {}
  },
  {
   "cell_type": "code",
   "execution_count": 6,
   "metadata": {},
   "outputs": [
    {
     "output_type": "stream",
     "name": "stdout",
     "text": [
      "[103 118 120]\n"
     ]
    }
   ],
   "source": [
    "valorPixel\t= imagem[150,150]\n",
    "print(valorPixel)"
   ]
  },
  {
   "source": [
    "Observe\tque foi\t retornado um vetor contendo três valores inteiros. Isso ocorre pois estamos trabalhando com uma imagem colorida, representada em RGB. Sendo assim, cada pixel possui três valores, referentes respectivamente à intensidade\tde\tvermelho verde e azul.\n",
    "\n",
    "Mas agora, vamos converter nossa imagem para cinza e ver o que será retornado como valor, veja\n"
   ],
   "cell_type": "markdown",
   "metadata": {}
  },
  {
   "cell_type": "code",
   "execution_count": 7,
   "metadata": {},
   "outputs": [
    {
     "output_type": "stream",
     "name": "stdout",
     "text": [
      "114\n"
     ]
    }
   ],
   "source": [
    "imagem = cv2.cvtColor(imagem,cv2.COLOR_RGB2GRAY)\n",
    "valorPixel = imagem[150,150]\n",
    "print(valorPixel)"
   ]
  },
  {
   "source": [
    "Obtemos uma valor único, observe que nesse caso, a imagem representada\tem tons de cinza será um único valor inteiro, referente à intensidade de luz representada pelo pixel."
   ],
   "cell_type": "markdown",
   "metadata": {}
  },
  {
   "source": [
    "#### Alterando pixels\n",
    "Para alterar o valor de um determinado pixel da imagem, basta realizar a operação inversa: atribuir novos valores a um determinado elemento da matriz. Veja o exemplo:"
   ],
   "cell_type": "markdown",
   "metadata": {}
  },
  {
   "cell_type": "code",
   "execution_count": 13,
   "metadata": {},
   "outputs": [
    {
     "output_type": "stream",
     "name": "stdout",
     "text": [
      "[103 118 120]\n[255 255 255]\n"
     ]
    }
   ],
   "source": [
    "imagem = cv2.imread(\"/home/luiz/Documentos/MeusProjetos/Dicas_OpenCV/VisaoComp/Imagens/frutas3.jpg\")\n",
    "print(imagem[150,150]) \n",
    "imagem[150,150]\t= [255,255,255]\t\n",
    "print(imagem[150,150])\n",
    "cv2.imshow(\"Frutas\", imagem)\n",
    "cv2.waitKey(0)\n",
    "cv2.destroyAllWindows() \n",
    "\n",
    "# Perceba que iremos colocar um ponto branco, que representa o vetor rgb de maior intensidade r: 255, g: 255, b: 255"
   ]
  },
  {
   "source": [
    "### Quantos pixels tem numa imagem digital?\n",
    "\n",
    "Para saber isso, podemos utilizador o métodO size no objeto do tipo numpy.ndarray, veja"
   ],
   "cell_type": "markdown",
   "metadata": {}
  },
  {
   "cell_type": "code",
   "execution_count": 4,
   "metadata": {},
   "outputs": [
    {
     "output_type": "execute_result",
     "data": {
      "text/plain": [
       "2916000"
      ]
     },
     "metadata": {},
     "execution_count": 4
    }
   ],
   "source": [
    "imagem.size"
   ]
  },
  {
   "source": [
    "Mas atenção, como nossa imagem está no formato RGB, temos três canais de cores, portando, precisamos dividir para encontrar o total de pixels dela.\n",
    "\n",
    "\n",
    "2916000/3 = 972000.0 pixels\n",
    "\n",
    "Agora você deve estar imaginando como deve ser o resultado de pixel para uma imagem em tons de cinza, correto, vamos ver na prática.\n"
   ],
   "cell_type": "markdown",
   "metadata": {}
  },
  {
   "cell_type": "code",
   "execution_count": 10,
   "metadata": {},
   "outputs": [
    {
     "output_type": "execute_result",
     "data": {
      "text/plain": [
       "972000"
      ]
     },
     "metadata": {},
     "execution_count": 10
    }
   ],
   "source": [
    "imagem = cv2.cvtColor(imagem, cv2.COLOR_RGB2GRAY)\n",
    "imagem.size"
   ]
  },
  {
   "source": [
    "A imagem em tons de cinza tem apenas um canal que representanta cada pixel com uma intensidade, consequentemente, teremos sempre o valor real dos pixels quando utilizarmos a função size ."
   ],
   "cell_type": "markdown",
   "metadata": {}
  }
 ]
}